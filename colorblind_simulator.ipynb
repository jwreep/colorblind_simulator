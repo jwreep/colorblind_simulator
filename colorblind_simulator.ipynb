{
 "cells": [
  {
   "cell_type": "code",
   "execution_count": 1,
   "metadata": {},
   "outputs": [],
   "source": [
    "from daltonlens import convert, simulate, generate\n",
    "import PIL\n",
    "import numpy as np\n",
    "from matplotlib import pyplot as plt\n"
   ]
  },
  {
   "cell_type": "code",
   "execution_count": 2,
   "metadata": {},
   "outputs": [],
   "source": [
    "# Converts an image into six images simulating the various types of colorblindness\n",
    "def convert_image(filename):\n",
    "    # convert original image to array\n",
    "    img = np.asarray(PIL.Image.open(filename).convert('RGB'))\n",
    "    \n",
    "    # simulate the effects of various types of colorblindness\n",
    "    vienot_simulator = simulate.Simulator_Vienot1999()\n",
    "    brettel_simulator = simulate.Simulator_Brettel1997()\n",
    "    protanopia = vienot_simulator.simulate_cvd (img, simulate.Deficiency.PROTAN, severity=1.0)\n",
    "    protanomaly = vienot_simulator.simulate_cvd (img, simulate.Deficiency.PROTAN, severity=0.5)\n",
    "    deuteranopia = vienot_simulator.simulate_cvd (img, simulate.Deficiency.DEUTAN, severity=1.0)\n",
    "    deuteranomaly = vienot_simulator.simulate_cvd (img, simulate.Deficiency.DEUTAN, severity=0.5)\n",
    "    tritanopia = brettel_simulator.simulate_cvd (img, simulate.Deficiency.TRITAN, severity=1.0)\n",
    "    tritanomaly = brettel_simulator.simulate_cvd (img, simulate.Deficiency.TRITAN, severity=0.5)\n",
    "\n",
    "    # convert arrays back to images\n",
    "    protanopia = PIL.Image.fromarray(protanopia)\n",
    "    protanomaly = PIL.Image.fromarray(protanomaly)\n",
    "    deuteranopia = PIL.Image.fromarray(deuteranopia)\n",
    "    deuteranomaly = PIL.Image.fromarray(deuteranomaly)\n",
    "    tritanopia = PIL.Image.fromarray(tritanopia)\n",
    "    tritanomaly = PIL.Image.fromarray(tritanomaly)\n",
    "    \n",
    "    # save the new images\n",
    "    protanopia.save(filename[0:-4]+\"_protanopia.png\", dps=200)\n",
    "    protanomaly.save(filename[0:-4]+\"_protanomaly.png\", dps=200)\n",
    "    deuteranopia.save(filename[0:-4]+\"_deuteranopia.png\", dps=200)\n",
    "    deuteranomaly.save(filename[0:-4]+\"_deuteranomaly.png\", dps=200)\n",
    "    tritanopia.save(filename[0:-4]+\"_tritanopia.png\", dps=200)\n",
    "    tritanomaly.save(filename[0:-4]+\"_tritanomaly.png\", dps=200)\n"
   ]
  },
  {
   "cell_type": "code",
   "execution_count": 3,
   "metadata": {},
   "outputs": [],
   "source": [
    "img = 'drap_normal.png'\n",
    "convert_image(img)"
   ]
  }
 ],
 "metadata": {
  "kernelspec": {
   "display_name": "Python 3 (ipykernel)",
   "language": "python",
   "name": "python3"
  },
  "language_info": {
   "codemirror_mode": {
    "name": "ipython",
    "version": 3
   },
   "file_extension": ".py",
   "mimetype": "text/x-python",
   "name": "python",
   "nbconvert_exporter": "python",
   "pygments_lexer": "ipython3",
   "version": "3.10.9"
  }
 },
 "nbformat": 4,
 "nbformat_minor": 4
}
